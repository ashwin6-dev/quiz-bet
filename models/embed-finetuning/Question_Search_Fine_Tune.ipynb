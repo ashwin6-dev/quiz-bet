{
  "cells": [
    {
      "cell_type": "code",
      "execution_count": 2,
      "metadata": {
        "id": "yUQ_WwyMp_Yg"
      },
      "outputs": [],
      "source": [
        "import random\n",
        "import torch\n",
        "from torch import nn\n",
        "from torch.utils.data import Dataset, DataLoader\n",
        "from torch.optim import AdamW"
      ]
    },
    {
      "cell_type": "code",
      "execution_count": 3,
      "metadata": {
        "id": "O1XJaPTKqC1n"
      },
      "outputs": [],
      "source": [
        "class TripletDataset(Dataset):\n",
        "    def __init__(self, data, embed_model, negative_sampler):\n",
        "        self.data = data\n",
        "        self.embed_model = embed_model\n",
        "        self.negative_sampler = negative_sampler\n",
        "\n",
        "    def __getitem__(self, index):\n",
        "        row = self.data.iloc[index]\n",
        "        anchor, description = row[\"question\"], row[\"description\"]\n",
        "        anchor = self.embed_model.encode(anchor)\n",
        "        positive = self.embed_model.encode(description)\n",
        "        negative = self.embed_model.encode(self.negative_sampler.sample(description))\n",
        "\n",
        "        return anchor, positive, negative\n",
        "\n",
        "    def __len__(self):\n",
        "        return len(self.data)\n"
      ]
    },
    {
      "cell_type": "code",
      "execution_count": 4,
      "metadata": {
        "id": "WjiHXW2_rP3Z"
      },
      "outputs": [],
      "source": [
        "class NegativeSampler:\n",
        "  def __init__(self, data):\n",
        "    self.description = data[\"description\"]\n",
        "\n",
        "  def sample(self, positive):\n",
        "    choice = random.choice(self.description)\n",
        "\n",
        "    while choice == positive:\n",
        "      choice = random.choice(self.description)\n",
        "\n",
        "    return choice"
      ]
    },
    {
      "cell_type": "code",
      "execution_count": 5,
      "metadata": {
        "id": "q6030vLutyzP"
      },
      "outputs": [],
      "source": [
        "class LinearAdapter(nn.Module):\n",
        "        def __init__(self, input_dim):\n",
        "            super().__init__()\n",
        "            self.linear = nn.Linear(input_dim, input_dim)\n",
        "\n",
        "        def forward(self, x):\n",
        "            x = self.linear(x)\n",
        "\n",
        "            return x"
      ]
    },
    {
      "cell_type": "code",
      "execution_count": 6,
      "metadata": {
        "colab": {
          "base_uri": "https://localhost:8080/"
        },
        "id": "MUUAyhsftqmP",
        "outputId": "1f206f57-2f8f-4bb6-9b48-ef36f94ee265"
      },
      "outputs": [
        {
          "name": "stderr",
          "output_type": "stream",
          "text": [
            "c:\\Users\\ashwin\\AppData\\Local\\Programs\\Python\\Python313\\Lib\\site-packages\\tqdm\\auto.py:21: TqdmWarning: IProgress not found. Please update jupyter and ipywidgets. See https://ipywidgets.readthedocs.io/en/stable/user_install.html\n",
            "  from .autonotebook import tqdm as notebook_tqdm\n"
          ]
        },
        {
          "name": "stdout",
          "output_type": "stream",
          "text": [
            "cpu\n"
          ]
        }
      ],
      "source": [
        "from sentence_transformers import SentenceTransformer\n",
        "\n",
        "device = torch.device(\"cuda\" if torch.cuda.is_available() else \"cpu\")\n",
        "print (device)\n",
        "model_name = \"all-MiniLM-L6-v2\"\n",
        "model = SentenceTransformer(model_name)"
      ]
    },
    {
      "cell_type": "code",
      "execution_count": 7,
      "metadata": {
        "id": "WijzCQcysSE2"
      },
      "outputs": [],
      "source": [
        "import pandas as pd\n",
        "\n",
        "dataset = pd.read_csv(\"training_dataset.csv\")\n",
        "sampler = NegativeSampler(dataset)\n",
        "triplet_dataset = TripletDataset(dataset, model, sampler)"
      ]
    },
    {
      "cell_type": "code",
      "execution_count": 8,
      "metadata": {
        "colab": {
          "base_uri": "https://localhost:8080/"
        },
        "id": "Zuohq23lsSdE",
        "outputId": "b6d0c336-1a0d-4311-8728-9e927ba68921"
      },
      "outputs": [
        {
          "name": "stderr",
          "output_type": "stream",
          "text": [
            "Epoch 1/5: 100%|██████████| 47/47 [00:37<00:00,  1.25batch/s]\n"
          ]
        },
        {
          "name": "stdout",
          "output_type": "stream",
          "text": [
            "Epoch 1/5, Loss: 0.3770\n"
          ]
        },
        {
          "name": "stderr",
          "output_type": "stream",
          "text": [
            "Epoch 2/5: 100%|██████████| 47/47 [00:37<00:00,  1.26batch/s]\n"
          ]
        },
        {
          "name": "stdout",
          "output_type": "stream",
          "text": [
            "Epoch 2/5, Loss: 0.1609\n"
          ]
        },
        {
          "name": "stderr",
          "output_type": "stream",
          "text": [
            "Epoch 3/5: 100%|██████████| 47/47 [00:39<00:00,  1.19batch/s]\n"
          ]
        },
        {
          "name": "stdout",
          "output_type": "stream",
          "text": [
            "Epoch 3/5, Loss: 0.1210\n"
          ]
        },
        {
          "name": "stderr",
          "output_type": "stream",
          "text": [
            "Epoch 4/5: 100%|██████████| 47/47 [00:35<00:00,  1.31batch/s]\n"
          ]
        },
        {
          "name": "stdout",
          "output_type": "stream",
          "text": [
            "Epoch 4/5, Loss: 0.1013\n"
          ]
        },
        {
          "name": "stderr",
          "output_type": "stream",
          "text": [
            "Epoch 5/5: 100%|██████████| 47/47 [00:36<00:00,  1.28batch/s]"
          ]
        },
        {
          "name": "stdout",
          "output_type": "stream",
          "text": [
            "Epoch 5/5, Loss: 0.0853\n"
          ]
        },
        {
          "name": "stderr",
          "output_type": "stream",
          "text": [
            "\n"
          ]
        }
      ],
      "source": [
        "from tqdm import tqdm\n",
        "\n",
        "margin = 0.7\n",
        "learning_rate = 0.003\n",
        "num_epochs = 5\n",
        "batch_size = 32\n",
        "\n",
        "adapter = LinearAdapter(model.get_sentence_embedding_dimension()).to(device)\n",
        "\n",
        "triplet_loss = nn.TripletMarginLoss(margin=margin, p=2)\n",
        "optimizer = AdamW(adapter.parameters(), lr=learning_rate)\n",
        "dataloader = DataLoader(triplet_dataset, batch_size=batch_size, shuffle=True)\n",
        "\n",
        "# Training loop\n",
        "for epoch in range(num_epochs):\n",
        "   total_loss = 0\n",
        "\n",
        "   with tqdm(dataloader, desc=f\"Epoch {epoch + 1}/{num_epochs}\", unit=\"batch\") as tepoch:\n",
        "    for batch in tepoch:\n",
        "        query_emb, positive_emb, negative_emb = [x.to(device) for x in batch]\n",
        "\n",
        "        # Forward pass\n",
        "        adapted_query_emb = adapter(query_emb)\n",
        "\n",
        "        # Compute loss\n",
        "        loss = triplet_loss(adapted_query_emb, positive_emb, negative_emb)\n",
        "\n",
        "        # Backward pass and optimization\n",
        "        optimizer.zero_grad()\n",
        "        loss.backward()\n",
        "\n",
        "        optimizer.step()\n",
        "\n",
        "        total_loss += loss.item()\n",
        "\n",
        "   print(f\"Epoch {epoch+1}/{num_epochs}, Loss: {total_loss/len(dataloader):.4f}\")"
      ]
    },
    {
      "cell_type": "code",
      "execution_count": 9,
      "metadata": {
        "id": "MsDSeZhTtd7t"
      },
      "outputs": [],
      "source": [
        "test_dataset = pd.read_csv(\"test_dataset.csv\")\n",
        "\n",
        "test_sampler = NegativeSampler(test_dataset)\n",
        "\n",
        "test_negatives = [test_sampler.sample(description) for description in test_dataset[\"description\"]]\n",
        "\n",
        "question_embeddings = torch.Tensor(model.encode(test_dataset[\"question\"])).to(device)\n",
        "description_embeddings = torch.Tensor(model.encode(test_dataset[\"description\"])).to(device)\n",
        "negative_embeddings = torch.Tensor(model.encode(test_negatives)).to(device)\n",
        "\n",
        "adapted_embeddings = adapter(question_embeddings)"
      ]
    },
    {
      "cell_type": "code",
      "execution_count": 10,
      "metadata": {
        "id": "MWJq5YRUyfC1"
      },
      "outputs": [],
      "source": [
        "def calculate_cosine_similarity(embeddingsA, embeddingsB):\n",
        "    similarity = torch.nn.functional.cosine_similarity(embeddingsA, embeddingsB)\n",
        "    return similarity"
      ]
    },
    {
      "cell_type": "code",
      "execution_count": 11,
      "metadata": {
        "colab": {
          "base_uri": "https://localhost:8080/"
        },
        "id": "j0WhWeNjyYH6",
        "outputId": "ca92eac6-b2cf-452f-bf74-4e72873f1923"
      },
      "outputs": [
        {
          "data": {
            "text/plain": [
              "(tensor(0.4520), tensor(0.0939))"
            ]
          },
          "execution_count": 11,
          "metadata": {},
          "output_type": "execute_result"
        }
      ],
      "source": [
        "base_positive_score = calculate_cosine_similarity(question_embeddings, description_embeddings).mean()\n",
        "base_neg_score = calculate_cosine_similarity(question_embeddings, negative_embeddings).mean()\n",
        "\n",
        "base_positive_score, base_neg_score"
      ]
    },
    {
      "cell_type": "code",
      "execution_count": 12,
      "metadata": {
        "colab": {
          "base_uri": "https://localhost:8080/"
        },
        "id": "cTik9lZ_yp3I",
        "outputId": "422c1a19-f7b2-40c6-fedb-2070efab067d"
      },
      "outputs": [
        {
          "data": {
            "text/plain": [
              "(tensor(0.6043, grad_fn=<MeanBackward0>),\n",
              " tensor(0.1007, grad_fn=<MeanBackward0>))"
            ]
          },
          "execution_count": 12,
          "metadata": {},
          "output_type": "execute_result"
        }
      ],
      "source": [
        "adapted_positive_score = calculate_cosine_similarity(adapted_embeddings, description_embeddings).mean()\n",
        "adapted_neg_score = calculate_cosine_similarity(adapted_embeddings, negative_embeddings).mean()\n",
        "\n",
        "adapted_positive_score, adapted_neg_score"
      ]
    },
    {
      "cell_type": "code",
      "execution_count": null,
      "metadata": {
        "colab": {
          "base_uri": "https://localhost:8080/"
        },
        "id": "VtNroTQ_265x",
        "outputId": "07c91063-f043-447e-9d8c-b65a35945648"
      },
      "outputs": [
        {
          "name": "stdout",
          "output_type": "stream",
          "text": [
            "Base Model Recall@1: 0.3489583333333333\n",
            "Base Model Recall@5: 0.7291666666666666\n",
            "Base Model Recall@10: 0.859375\n",
            "Base Model Recall@25: 0.90625\n",
            "Base Model Average Rank: 6.03125\n",
            "\n",
            "Adapted Model Recall@1: 0.390625\n",
            "Adapted Model Recall@5: 0.7291666666666666\n",
            "Adapted Model Recall@10: 0.875\n",
            "Adapted Model Recall@25: 0.96875\n",
            "Adapted Model Average Rank: 4.291666666666667\n"
          ]
        }
      ],
      "source": [
        "import torch\n",
        "\n",
        "def evaluate_embeddings(question_embeddings, description_embeddings, dataset, k):\n",
        "    num_queries = question_embeddings.shape[0]\n",
        "    recall_sum = 0\n",
        "    ranks = 0\n",
        "\n",
        "    for i in range(num_queries):\n",
        "        # Calculate cosine similarity between the question and all descriptions\n",
        "        scores = torch.nn.functional.cosine_similarity(question_embeddings[i], description_embeddings)\n",
        "\n",
        "        # Get the indices that would sort the scores in descending order\n",
        "        _, indices = torch.sort(scores, descending=True)\n",
        "\n",
        "        ranks += torch.nonzero(indices == i).item()\n",
        "\n",
        "        for j in range(k):\n",
        "            sorted_index = indices[j].item()\n",
        "            if dataset[\"description\"][i] == dataset[\"description\"][sorted_index]:\n",
        "                recall_sum += 1\n",
        "                break\n",
        "\n",
        "    recall_at_k = recall_sum / num_queries\n",
        "    average_rank = ranks / num_queries\n",
        "\n",
        "    return recall_at_k, average_rank\n",
        "\n",
        "# Example usage\n",
        "k_values = [1, 5, 10, 25]\n",
        "\n",
        "# Calculate base model recall@k\n",
        "base_recall_at_ks = [evaluate_embeddings(question_embeddings, description_embeddings, test_dataset, k) for k in k_values]\n",
        "for k, (recall, average_rank) in zip(k_values, base_recall_at_ks):\n",
        "    print(f\"Base Model Recall@{k}: {recall}\")\n",
        "print(f\"Base Model Average Rank: {average_rank}\")\n"
      ]
    },
    {
      "cell_type": "code",
      "execution_count": null,
      "metadata": {},
      "outputs": [],
      "source": [
        "\n",
        "print (\"\")\n",
        "# Calculate adapted model recall@k\n",
        "adapted_recall_at_ks = [evaluate_embeddings(adapted_embeddings, description_embeddings, test_dataset, k) for k in k_values]\n",
        "for k, (recall, average_rank) in zip(k_values, adapted_recall_at_ks):\n",
        "    print(f\"Adapted Model Recall@{k}: {recall}\")\n",
        "print(f\"Adapted Model Average Rank: {average_rank}\")"
      ]
    },
    {
      "cell_type": "code",
      "execution_count": 18,
      "metadata": {
        "id": "w90rOqhX3CM_"
      },
      "outputs": [],
      "source": [
        "torch.jit.script(adapter).save(\"./adapter.pt\")"
      ]
    },
    {
      "cell_type": "code",
      "execution_count": null,
      "metadata": {},
      "outputs": [],
      "source": []
    }
  ],
  "metadata": {
    "accelerator": "GPU",
    "colab": {
      "gpuType": "T4",
      "provenance": []
    },
    "kernelspec": {
      "display_name": "Python 3",
      "name": "python3"
    },
    "language_info": {
      "codemirror_mode": {
        "name": "ipython",
        "version": 3
      },
      "file_extension": ".py",
      "mimetype": "text/x-python",
      "name": "python",
      "nbconvert_exporter": "python",
      "pygments_lexer": "ipython3",
      "version": "3.13.2"
    }
  },
  "nbformat": 4,
  "nbformat_minor": 0
}
