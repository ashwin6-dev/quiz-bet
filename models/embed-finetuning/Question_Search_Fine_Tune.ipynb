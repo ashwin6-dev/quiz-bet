{
  "nbformat": 4,
  "nbformat_minor": 0,
  "metadata": {
    "colab": {
      "provenance": [],
      "gpuType": "T4"
    },
    "kernelspec": {
      "name": "python3",
      "display_name": "Python 3"
    },
    "language_info": {
      "name": "python"
    },
    "accelerator": "GPU"
  },
  "cells": [
    {
      "cell_type": "code",
      "execution_count": 4,
      "metadata": {
        "id": "yUQ_WwyMp_Yg"
      },
      "outputs": [],
      "source": [
        "import random\n",
        "import torch\n",
        "from torch import nn\n",
        "from torch.utils.data import Dataset, DataLoader\n",
        "from torch.optim import AdamW"
      ]
    },
    {
      "cell_type": "code",
      "source": [
        "class TripletDataset(Dataset):\n",
        "    def __init__(self, data, embed_model, negative_sampler):\n",
        "        self.data = data\n",
        "        self.embed_model = embed_model\n",
        "        self.negative_sampler = negative_sampler\n",
        "\n",
        "    def __getitem__(self, index):\n",
        "        row = self.data.iloc[index]\n",
        "        anchor, description = row[\"question\"], row[\"description\"]\n",
        "        anchor = self.embed_model.encode(anchor)\n",
        "        positive = self.embed_model.encode(description)\n",
        "        negative = self.embed_model.encode(self.negative_sampler.sample(description))\n",
        "\n",
        "        return anchor, positive, negative\n",
        "\n",
        "    def __len__(self):\n",
        "        return len(self.data)\n"
      ],
      "metadata": {
        "id": "O1XJaPTKqC1n"
      },
      "execution_count": 5,
      "outputs": []
    },
    {
      "cell_type": "code",
      "source": [
        "class NegativeSampler:\n",
        "  def __init__(self, data):\n",
        "    self.description = data[\"description\"]\n",
        "\n",
        "  def sample(self, positive):\n",
        "    choice = random.choice(self.description)\n",
        "\n",
        "    while choice == positive:\n",
        "      choice = random.choice(self.description)\n",
        "\n",
        "    return choice"
      ],
      "metadata": {
        "id": "WjiHXW2_rP3Z"
      },
      "execution_count": 83,
      "outputs": []
    },
    {
      "cell_type": "code",
      "source": [
        "class LinearAdapter(nn.Module):\n",
        "        def __init__(self, input_dim):\n",
        "            super().__init__()\n",
        "            self.linear = nn.Linear(input_dim, input_dim)\n",
        "\n",
        "        def forward(self, x):\n",
        "            x = self.linear(x)\n",
        "\n",
        "            return x"
      ],
      "metadata": {
        "id": "q6030vLutyzP"
      },
      "execution_count": 67,
      "outputs": []
    },
    {
      "cell_type": "code",
      "source": [
        "from sentence_transformers import SentenceTransformer\n",
        "\n",
        "device = torch.device(\"cuda\" if torch.cuda.is_available() else \"cpu\")\n",
        "print (device)\n",
        "model_name = \"all-MiniLM-L6-v2\"\n",
        "model = SentenceTransformer(model_name)"
      ],
      "metadata": {
        "id": "MUUAyhsftqmP",
        "colab": {
          "base_uri": "https://localhost:8080/"
        },
        "outputId": "1f206f57-2f8f-4bb6-9b48-ef36f94ee265"
      },
      "execution_count": 68,
      "outputs": [
        {
          "output_type": "stream",
          "name": "stdout",
          "text": [
            "cuda\n"
          ]
        }
      ]
    },
    {
      "cell_type": "code",
      "source": [
        "import pandas as pd\n",
        "\n",
        "dataset = pd.read_csv(\"training_dataset.csv\")\n",
        "sampler = NegativeSampler(dataset)\n",
        "triplet_dataset = TripletDataset(dataset, model, sampler)"
      ],
      "metadata": {
        "id": "WijzCQcysSE2"
      },
      "execution_count": 84,
      "outputs": []
    },
    {
      "cell_type": "code",
      "source": [
        "from tqdm import tqdm\n",
        "\n",
        "margin = 0.7\n",
        "learning_rate = 0.003\n",
        "num_epochs = 5\n",
        "batch_size = 32\n",
        "\n",
        "adapter = LinearAdapter(model.get_sentence_embedding_dimension()).to(device)\n",
        "\n",
        "triplet_loss = nn.TripletMarginLoss(margin=margin, p=2)\n",
        "optimizer = AdamW(adapter.parameters(), lr=learning_rate)\n",
        "dataloader = DataLoader(triplet_dataset, batch_size=batch_size, shuffle=True)\n",
        "\n",
        "# Training loop\n",
        "for epoch in range(num_epochs):\n",
        "   total_loss = 0\n",
        "\n",
        "   with tqdm(dataloader, desc=f\"Epoch {epoch + 1}/{num_epochs}\", unit=\"batch\") as tepoch:\n",
        "    for batch in tepoch:\n",
        "        query_emb, positive_emb, negative_emb = [x.to(device) for x in batch]\n",
        "\n",
        "        # Forward pass\n",
        "        adapted_query_emb = adapter(query_emb)\n",
        "\n",
        "        # Compute loss\n",
        "        loss = triplet_loss(adapted_query_emb, positive_emb, negative_emb)\n",
        "\n",
        "        # Backward pass and optimization\n",
        "        optimizer.zero_grad()\n",
        "        loss.backward()\n",
        "\n",
        "        optimizer.step()\n",
        "\n",
        "        total_loss += loss.item()\n",
        "\n",
        "   print(f\"Epoch {epoch+1}/{num_epochs}, Loss: {total_loss/len(dataloader):.4f}\")"
      ],
      "metadata": {
        "colab": {
          "base_uri": "https://localhost:8080/"
        },
        "id": "Zuohq23lsSdE",
        "outputId": "b6d0c336-1a0d-4311-8728-9e927ba68921"
      },
      "execution_count": 92,
      "outputs": [
        {
          "output_type": "stream",
          "name": "stderr",
          "text": [
            "Epoch 1/5: 100%|██████████| 47/47 [00:28<00:00,  1.65batch/s]\n"
          ]
        },
        {
          "output_type": "stream",
          "name": "stdout",
          "text": [
            "Epoch 1/5, Loss: 0.3806\n"
          ]
        },
        {
          "output_type": "stream",
          "name": "stderr",
          "text": [
            "Epoch 2/5: 100%|██████████| 47/47 [00:29<00:00,  1.60batch/s]\n"
          ]
        },
        {
          "output_type": "stream",
          "name": "stdout",
          "text": [
            "Epoch 2/5, Loss: 0.1540\n"
          ]
        },
        {
          "output_type": "stream",
          "name": "stderr",
          "text": [
            "Epoch 3/5: 100%|██████████| 47/47 [00:28<00:00,  1.66batch/s]\n"
          ]
        },
        {
          "output_type": "stream",
          "name": "stdout",
          "text": [
            "Epoch 3/5, Loss: 0.1231\n"
          ]
        },
        {
          "output_type": "stream",
          "name": "stderr",
          "text": [
            "Epoch 4/5: 100%|██████████| 47/47 [00:28<00:00,  1.62batch/s]\n"
          ]
        },
        {
          "output_type": "stream",
          "name": "stdout",
          "text": [
            "Epoch 4/5, Loss: 0.0955\n"
          ]
        },
        {
          "output_type": "stream",
          "name": "stderr",
          "text": [
            "Epoch 5/5: 100%|██████████| 47/47 [00:28<00:00,  1.66batch/s]"
          ]
        },
        {
          "output_type": "stream",
          "name": "stdout",
          "text": [
            "Epoch 5/5, Loss: 0.0931\n"
          ]
        },
        {
          "output_type": "stream",
          "name": "stderr",
          "text": [
            "\n"
          ]
        }
      ]
    },
    {
      "cell_type": "code",
      "source": [
        "test_dataset = pd.read_csv(\"test_dataset.csv\")\n",
        "\n",
        "test_sampler = NegativeSampler(test_dataset)\n",
        "\n",
        "test_negatives = [test_sampler.sample(description) for description in test_dataset[\"description\"]]\n",
        "\n",
        "question_embeddings = torch.Tensor(model.encode(test_dataset[\"question\"])).to(device)\n",
        "description_embeddings = torch.Tensor(model.encode(test_dataset[\"description\"])).to(device)\n",
        "negative_embeddings = torch.Tensor(model.encode(test_negatives)).to(device)\n",
        "\n",
        "adapted_embeddings = adapter(question_embeddings)"
      ],
      "metadata": {
        "id": "MsDSeZhTtd7t"
      },
      "execution_count": 93,
      "outputs": []
    },
    {
      "cell_type": "code",
      "source": [
        "def calculate_cosine_similarity(embeddingsA, embeddingsB):\n",
        "    similarity = torch.nn.functional.cosine_similarity(embeddingsA, embeddingsB)\n",
        "    return similarity"
      ],
      "metadata": {
        "id": "MWJq5YRUyfC1"
      },
      "execution_count": 94,
      "outputs": []
    },
    {
      "cell_type": "code",
      "source": [
        "base_positive_score = calculate_cosine_similarity(question_embeddings, description_embeddings).mean()\n",
        "base_neg_score = calculate_cosine_similarity(question_embeddings, negative_embeddings).mean()\n",
        "\n",
        "base_positive_score, base_neg_score"
      ],
      "metadata": {
        "colab": {
          "base_uri": "https://localhost:8080/"
        },
        "id": "j0WhWeNjyYH6",
        "outputId": "ca92eac6-b2cf-452f-bf74-4e72873f1923"
      },
      "execution_count": 95,
      "outputs": [
        {
          "output_type": "execute_result",
          "data": {
            "text/plain": [
              "(tensor(0.4520, device='cuda:0'), tensor(0.1014, device='cuda:0'))"
            ]
          },
          "metadata": {},
          "execution_count": 95
        }
      ]
    },
    {
      "cell_type": "code",
      "source": [
        "adapted_positive_score = calculate_cosine_similarity(adapted_embeddings, description_embeddings).mean()\n",
        "adapted_neg_score = calculate_cosine_similarity(adapted_embeddings, negative_embeddings).mean()\n",
        "\n",
        "adapted_positive_score, adapted_neg_score"
      ],
      "metadata": {
        "colab": {
          "base_uri": "https://localhost:8080/"
        },
        "id": "cTik9lZ_yp3I",
        "outputId": "422c1a19-f7b2-40c6-fedb-2070efab067d"
      },
      "execution_count": 96,
      "outputs": [
        {
          "output_type": "execute_result",
          "data": {
            "text/plain": [
              "(tensor(0.6014, device='cuda:0', grad_fn=<MeanBackward0>),\n",
              " tensor(0.1068, device='cuda:0', grad_fn=<MeanBackward0>))"
            ]
          },
          "metadata": {},
          "execution_count": 96
        }
      ]
    },
    {
      "source": [
        "import torch\n",
        "\n",
        "def evaluate_embeddings(question_embeddings, description_embeddings, dataset, k):\n",
        "    num_queries = question_embeddings.shape[0]\n",
        "    recall_sum = 0\n",
        "    ranks = 0\n",
        "\n",
        "    for i in range(num_queries):\n",
        "        # Calculate cosine similarity between the question and all descriptions\n",
        "        scores = torch.nn.functional.cosine_similarity(question_embeddings[i], description_embeddings)\n",
        "\n",
        "        # Get the indices that would sort the scores in descending order\n",
        "        _, indices = torch.sort(scores, descending=True)\n",
        "\n",
        "        ranks += torch.nonzero(indices == i).item()\n",
        "\n",
        "        for j in range(k):\n",
        "            sorted_index = indices[j].item()\n",
        "            if dataset[\"description\"][i] == dataset[\"description\"][sorted_index]:\n",
        "                recall_sum += 1\n",
        "                break\n",
        "\n",
        "    recall_at_k = recall_sum / num_queries\n",
        "    average_rank = ranks / num_queries\n",
        "\n",
        "    return recall_at_k, average_rank\n",
        "\n",
        "# Example usage\n",
        "k_values = [1, 5, 10, 25]\n",
        "\n",
        "# Calculate base model recall@k\n",
        "base_recall_at_ks = [evaluate_embeddings(question_embeddings, description_embeddings, test_dataset, k) for k in k_values]\n",
        "for k, (recall, average_rank) in zip(k_values, base_recall_at_ks):\n",
        "    print(f\"Base Model Recall@{k}: {recall}\")\n",
        "print(f\"Base Model Average Rank: {average_rank}\")\n",
        "\n",
        "print (\"\")\n",
        "# Calculate adapted model recall@k\n",
        "adapted_recall_at_ks = [evaluate_embeddings(adapted_embeddings, description_embeddings, test_dataset, k) for k in k_values]\n",
        "for k, (recall, average_rank) in zip(k_values, adapted_recall_at_ks):\n",
        "    print(f\"Adapted Model Recall@{k}: {recall}\")\n",
        "print(f\"Adapted Model Average Rank: {average_rank}\")"
      ],
      "cell_type": "code",
      "metadata": {
        "colab": {
          "base_uri": "https://localhost:8080/"
        },
        "id": "VtNroTQ_265x",
        "outputId": "07c91063-f043-447e-9d8c-b65a35945648"
      },
      "execution_count": 104,
      "outputs": [
        {
          "output_type": "stream",
          "name": "stdout",
          "text": [
            "Base Model Recall@1: 0.3489583333333333\n",
            "Base Model Recall@5: 0.7291666666666666\n",
            "Base Model Recall@10: 0.859375\n",
            "Base Model Recall@25: 0.90625\n",
            "Base Model Average Rank: 6.026041666666667\n",
            "\n",
            "Adapted Model Recall@1: 0.4010416666666667\n",
            "Adapted Model Recall@5: 0.75\n",
            "Adapted Model Recall@10: 0.8854166666666666\n",
            "Adapted Model Recall@25: 0.9739583333333334\n",
            "Adapted Model Average Rank: 4.067708333333333\n"
          ]
        }
      ]
    },
    {
      "cell_type": "code",
      "source": [],
      "metadata": {
        "id": "w90rOqhX3CM_"
      },
      "execution_count": 12,
      "outputs": []
    }
  ]
}